{
 "cells": [
  {
   "cell_type": "code",
   "execution_count": null,
   "id": "fc5ade08",
   "metadata": {},
   "outputs": [],
   "source": [
    "import xgboost as xgb\n",
    "import numpy as np\n",
    "\n",
    "def hgb_loss(preds, dtrain):\n",
    "    y = dtrain.get_label()\n",
    "    sigma_squared = 1.0\n",
    "    lambda_param = 1.0\n",
    "    \n",
    "    # Custom loss function\n",
    "    grad = (preds - y) / sigma_squared - (1 / lambda_param) + (1 / preds)\n",
    "    hess = np.ones_like(preds) / sigma_squared + (1 / preds ** 2)\n",
    "    \n",
    "    return grad, hess\n",
    "\n",
    "# Data loading\n",
    "# toy\n",
    "X_train = np.array([[2.1, 2, 4.5], [32, 3.1, -0.5]])\n",
    "y_train = np.array([16.3, 0.4])\n",
    "\n",
    "# Convert the dataset to DMatrix object for XGBoost\n",
    "dtrain = xgb.DMatrix(X_train, label=y_train)\n",
    "\n",
    "X_test = np.array([[234.1, -0.5, 18]])\n",
    "\n",
    "# Set up parameters (these may need to be tuned for your specific problem)\n",
    "params = {\n",
    "    'max_depth': 3,\n",
    "    'eta': 0.1,\n",
    "    'silent': 1,\n",
    "    'objective': 'reg:squarederror'  # We'll still use squared error for demonstration\n",
    "}\n",
    "\n",
    "# Train the model\n",
    "bst = xgb.train(params, dtrain, num_boost_round=100, obj=hgb_loss)\n",
    "\n",
    "# Predictions can be made with:\n",
    "preds = bst.predict(xgb.DMatrix(X_test))\n"
   ]
  }
 ],
 "metadata": {
  "kernelspec": {
   "display_name": "Python 3",
   "language": "python",
   "name": "python3"
  },
  "language_info": {
   "codemirror_mode": {
    "name": "ipython",
    "version": 3
   },
   "file_extension": ".py",
   "mimetype": "text/x-python",
   "name": "python",
   "nbconvert_exporter": "python",
   "pygments_lexer": "ipython3",
   "version": "3.8.10"
  }
 },
 "nbformat": 4,
 "nbformat_minor": 5
}
